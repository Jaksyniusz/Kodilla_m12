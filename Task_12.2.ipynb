{
 "cells": [
  {
   "cell_type": "markdown",
   "id": "25fdec54-e2da-46e9-884d-6628b734253a",
   "metadata": {},
   "source": [
    "# Zadanie: zrozumienie typów algorytmów\n",
    "## Supervised Learning\n",
    "To rodzaj uczenia maszynowego (ML), w którym nie jako staramy się nauczyć model, by potrafił on przewidywać wyniki. Na przykładzie nauczyciela i uczniów można to zobrazować tak, nauczyciel przykładowo podaje kilka zadań (2 + 1, 3 + 1) [tak zwane dane treningowe] z wynikami (3, 4) [tak zwane etykiety/wyniki], uczniowie [model] uczą się na bazie zadań i ich wyników, przewidywać jakie będą wyniki dla innych danych, coś jak nauka pasywna języka przez dziecko – słyszy dźwięki oraz widzi obrazy i łączy je z tu i teraz.\n",
    "### Klasyfikacja\n",
    "To zadania polegające na przewidzeniu, do jakiej kategorii lub klasy należy dany obiekt. Przykładem może być:\n",
    "1) Filtrowanie spamu - model uczy się rozpoznawać, czy e-mail jest spamem czy nie, na podstawie wcześniej oznaczonych wiadomości.\n",
    "2) Rozpoznawanie obrazów (np. rozpoznawanie cyfr) - model uczy się na podstawie obrazów, które cyfry reprezentują, a następnie przewiduje, jaką cyfrę widzi na nowym obrazie.\n",
    "3) Diagnostyka medyczna - model przewiduje, czy pacjent ma daną chorobę na podstawie wyników badań.\n",
    "Dlaczego te zastosowania są przypisane do klasyfikacji? Ponieważ w każdym z tych przypadków model musi przypisać dane wejściowe do jednej z kilku kategorii (np. spam/nie spam, chory/zdrowy).\n",
    "### Regresja\n",
    "To zadanie polega na oszacowaniu na podstawie nowych danych przyszłych wyników w oparciu o wcześniejsze dane i odpowiadające im wyniki.\n",
    "1) Przewidywanie cen nieruchomości - model uczy się przewidywać cenę domu na podstawie jego cech, takich jak powierzchnia, liczba pokoi itp.\n",
    "2) Prognozowanie pogody - model przewiduje temperatury lub opady na podstawie danych historycznych.\n",
    "3) Przewidywanie sprzedaży - model przewiduje, ile produktów zostanie sprzedanych w przyszłym miesiącu na podstawie danych z poprzednich miesięcy.\n",
    "Dlaczego te zastosowania są przypisane do regresji? Ponieważ w każdym z tych przypadków model przewiduje wartość liczbową, a nie kategorię.\n",
    "## Unsupervised Learning\n",
    "Ten rodzaj uczenia maszynowego jest bardziej artystyczny, bowiem to tak jakby w zadaniu poprzednim uczniowie dostali imiona i nazwiska wielkich filozofów i bez żadnej wcześniej nabytej wiedzy o tych filozofach starali się posegregować ich w dowolnie wybrany przez siebie sposób. Celem takiego modelu jest odkrycie ukrytych struktur lub wzorców w danych.\n",
    "### Clustering\n",
    "To zadanie, w którym model grupuje podobne obiekty w klastry. Przykłady:\n",
    "1) Segmentacja klientów - model grupuje klientów na podstawie ich zachowań zakupowych, co pomaga w personalizacji marketingu.\n",
    "2) Grupowanie dokumentów - model grupuje podobne dokumenty (np. artykuły naukowe) na podstawie ich treści.\n",
    "3) Analiza genetyczna - model grupuje geny o podobnych funkcjach na podstawie danych ekspresji genów.\n",
    "Dlaczego te zastosowania są przypisane do clusteringu? Ponieważ w każdym z tych przypadków model odkrywa naturalne grupy w danych bez wcześniejszej wiedzy o etykietach.\n",
    "### Dimension Reduction\n",
    "Jest to zadanie, w którym model redukuje liczbę cech w danych, zachowując jak najwięcej informacji. Przykłady:\n",
    "1) Kompresja obrazów - model redukuje wymiarowość obrazów, zachowując ich istotne cechy.\n",
    "2) Analiza danych genetycznych - model redukuje liczbę zmiennych genetycznych, aby ułatwić analizę.\n",
    "3) Przetwarzanie języka naturalnego (NLP) - model redukuje wymiarowość danych tekstowych, aby ułatwić analizę semantyczną.\n",
    "Dlaczego te zastosowania są przypisane do redukcji wymiarowości? Ponieważ w każdym z tych przypadków model zmniejsza liczbę cech, aby uprościć analizę lub przetwarzanie danych, zachowując przy tym istotne informacje.\n",
    "### Reinforcement Learning\n",
    "To rodzaj uczenia maszynowego, w którym agent uczy się poprzez interakcję ze środowiskiem. Agent wykonuje akcje, otrzymuje nagrody lub kary za swoje działania, a jego celem jest maksymalizacja nagród w długim okresie. W przeciwieństwie do Supervised i Unsupervised Learning, w Reinforcement Learning nie ma bezpośrednich etykiet ani struktur danych, a uczenie odbywa się poprzez próby i błędy.\n",
    "Agent to termin specyficzny dla Reinforcement Learning. Odnosi się do bytu (np. programu, systemu), który podejmuje decyzje, wykonuje akcje w środowisku i uczy się na podstawie nagród lub kar. Agent jest aktywnym uczestnikiem procesu uczenia.\n",
    "Model to bardziej ogólne pojęcie, które może odnosić się do dowolnego algorytmu lub systemu w Machine Learning, niezależnie od tego, czy jest to Supervised, Unsupervised, czy Reinforcement Learning. W kontekście Reinforcement Learning model może być częścią agenta (np. model, który przewiduje nagrody lub optymalne akcje)\n",
    "Przykłady zastosowań Reinforcement Learning:\n",
    "1) Gry komputerowe - agent uczy się grać w gry, takie jak szachy, Go czy gry wideo, poprzez wielokrotne rozgrywki i otrzymywanie nagród za wygrane.\n",
    "Dlaczego to zastosowanie jest przypisane do Reinforcement Learning? Ponieważ agent uczy się poprzez interakcję z grą, eksperymentując z różnymi strategiami i otrzymując nagrody za poprawne ruchy.\n",
    "2) Sterowanie robotami: Robot uczy się wykonywać zadania, takie jak chodzenie, podnoszenie przedmiotów czy nawigacja w przestrzeni, poprzez próby i błędy.\n",
    "Dlaczego to zastosowanie jest przypisane do Reinforcement Learning? Ponieważ robot musi eksperymentować z różnymi akcjami, aby nauczyć się, jak efektywnie wykonywać zadania w dynamicznym środowisku.\n",
    "3) Optymalizacja procesów przemysłowych: System uczy się optymalizować procesy, takie jak zarządzanie energią w fabrykach, poprzez ciągłe dostosowywanie parametrów i otrzymywanie nagród za poprawę efektywności.\n",
    "Dlaczego to zastosowanie jest przypisane do Reinforcement Learning? Ponieważ system musi eksperymentować z różnymi ustawieniami, aby znaleźć optymalne rozwiązanie, które maksymalizuje wydajność.\n"
   ]
  }
 ],
 "metadata": {
  "kernelspec": {
   "display_name": "Python [conda env:base] *",
   "language": "python",
   "name": "conda-base-py"
  },
  "language_info": {
   "codemirror_mode": {
    "name": "ipython",
    "version": 3
   },
   "file_extension": ".py",
   "mimetype": "text/x-python",
   "name": "python",
   "nbconvert_exporter": "python",
   "pygments_lexer": "ipython3",
   "version": "3.12.3"
  }
 },
 "nbformat": 4,
 "nbformat_minor": 5
}
